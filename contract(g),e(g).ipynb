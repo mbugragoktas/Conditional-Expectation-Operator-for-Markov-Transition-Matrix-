{
 "cells": [
  {
   "cell_type": "code",
   "execution_count": 1,
   "metadata": {},
   "outputs": [],
   "source": [
    "import pandas as pd\n",
    "import numpy as np\n",
    "import math"
   ]
  },
  {
   "cell_type": "markdown",
   "metadata": {},
   "source": [
    "## /* E.PRC: conditional expectation operator for Markov transition matrix\n"
   ]
  },
  {
   "cell_type": "code",
   "execution_count": 136,
   "metadata": {},
   "outputs": [],
   "source": [
    "def e(z):\n",
    "    \n",
    "    m = int(modnum[4])\n",
    "    r = np.shape(z)[1]\n",
    "    \n",
    "    y1 = int(p[0])*z[0:n-m, ]\n",
    "    y2 = np.zeros((m,1))\n",
    "    y2[m-1,] = z[n-1,]\n",
    "    \n",
    "    i = 1\n",
    "    j = 1\n",
    "    k = 1\n",
    "    sp = 0\n",
    "    \n",
    "    while i <= m:\n",
    "      \n",
    "        y1=y1+p[i]*z[i:n-m+i,]\n",
    "    \n",
    "        while j <= m-1:\n",
    "            \n",
    "            y3 = np.zeros((1,r))\n",
    "            \n",
    "            while k <= m-j:\n",
    "                \n",
    "                sp = sp + p[k-1]\n",
    "                y3 = y3 + p[k-1] * z[n-m+k+(j-1)-1,]\n",
    "                k = k + 1\n",
    "            \n",
    "            y3 = y3 + (1-sp) * z[n-1,]\n",
    "            \n",
    "            y2[j-1,] = y3\n",
    "            \n",
    "            j = j + 1\n",
    "    \n",
    "    i = i + 1\n",
    "\n",
    "    y1 = y1.transpose()\n",
    "    y2 = y2.transpose()\n",
    "    \n",
    "    return(np.concatenate((y1,y2),axis=0))\n",
    "            "
   ]
  },
  {
   "cell_type": "code",
   "execution_count": 275,
   "metadata": {},
   "outputs": [],
   "source": [
    "def e1(z):\n",
    "    \n",
    "    m = int(modnum[4])\n",
    "    r = np.shape(z)[1]\n",
    "    \n",
    "    y1 = int(p[0])*z[0:n-m, ]\n",
    "    y2 = np.zeros((m,1))\n",
    "    y2[m-1,] = z[n-1,]\n",
    "    \n",
    "    \n",
    "    k = 0\n",
    "    sp = 0\n",
    "    j = 1    \n",
    "        \n",
    "    for i in range(1, m+1):\n",
    "      \n",
    "        y1=y1+p[i]*z[i:n-m+i,]\n",
    "        \n",
    "        k =+ 1\n",
    "        \n",
    "        for j in range(1,m):\n",
    "            \n",
    "            y3 = np.zeros((1,r))\n",
    "            \n",
    "            while k <= m-j:\n",
    "                \n",
    "                sp = sp + p[k-1]\n",
    "                y3 = y3 + p[k-1] * z[n-m+k+(j-1)-1,]\n",
    "                k = k + 1\n",
    "                \n",
    "            \n",
    "            y3 = y3 + (1-sp) * z[n-1,]\n",
    "            \n",
    "            y2[j-1,] = y3\n",
    "            \n",
    "            \n",
    "    \n",
    "    \n",
    "    return(np.concatenate((y1,y2),axis=0))"
   ]
  },
  {
   "cell_type": "code",
   "execution_count": 276,
   "metadata": {},
   "outputs": [
    {
     "data": {
      "text/plain": [
       "array([[  91.],\n",
       "       [ 112.],\n",
       "       [ 133.],\n",
       "       [-332.],\n",
       "       [-392.],\n",
       "       [-392.],\n",
       "       [-392.],\n",
       "       [   8.]])"
      ]
     },
     "execution_count": 276,
     "metadata": {},
     "output_type": "execute_result"
    }
   ],
   "source": [
    "e1(z)"
   ]
  },
  {
   "cell_type": "code",
   "execution_count": 93,
   "metadata": {},
   "outputs": [],
   "source": [
    "modnum = np.array([1,2,3,4,5,6,7,8],ndmin=2).T"
   ]
  },
  {
   "cell_type": "code",
   "execution_count": 94,
   "metadata": {},
   "outputs": [],
   "source": [
    "z = np.array([1,2,3,4,5,6,7,8],ndmin=2).T"
   ]
  },
  {
   "cell_type": "code",
   "execution_count": 95,
   "metadata": {},
   "outputs": [],
   "source": [
    "p = np.array([1,2,3,4,5,6],ndmin=2).T"
   ]
  },
  {
   "cell_type": "code",
   "execution_count": 21,
   "metadata": {},
   "outputs": [],
   "source": [
    "c = np.matrix([2,4,6,8])"
   ]
  },
  {
   "cell_type": "code",
   "execution_count": 22,
   "metadata": {},
   "outputs": [],
   "source": [
    "bet = 0.6\n",
    "tr = 20\n"
   ]
  },
  {
   "cell_type": "code",
   "execution_count": 26,
   "metadata": {},
   "outputs": [],
   "source": [
    "zmax = (-c+bet+z).max(axis=0)"
   ]
  },
  {
   "cell_type": "code",
   "execution_count": 36,
   "metadata": {},
   "outputs": [],
   "source": [
    "def f(x): \n",
    "\n",
    "    return np.exp(x)"
   ]
  },
  {
   "cell_type": "markdown",
   "metadata": {},
   "source": [
    "# /* CONTRACT.G procedure to compute contraction operator\n"
   ]
  },
  {
   "cell_type": "code",
   "execution_count": 37,
   "metadata": {},
   "outputs": [],
   "source": [
    "def contract(z):\n",
    "    zmax = (-c+bet+z).max(axis=0)\n",
    "    y2 = f(-tr-c[0,0]+bet*z[0,0]-zmax) \n",
    "    return(zmax+np.log(np.exp(-c+bet*z-zmax)+y2))"
   ]
  },
  {
   "cell_type": "code",
   "execution_count": 38,
   "metadata": {},
   "outputs": [
    {
     "data": {
      "text/plain": [
       "matrix([[-1.4       , -2.79999999, -4.19999997, -5.59999986]])"
      ]
     },
     "execution_count": 38,
     "metadata": {},
     "output_type": "execute_result"
    }
   ],
   "source": [
    "contract2(z)"
   ]
  },
  {
   "cell_type": "code",
   "execution_count": null,
   "metadata": {},
   "outputs": [],
   "source": []
  }
 ],
 "metadata": {
  "kernelspec": {
   "display_name": "Python 3",
   "language": "python",
   "name": "python3"
  },
  "language_info": {
   "codemirror_mode": {
    "name": "ipython",
    "version": 3
   },
   "file_extension": ".py",
   "mimetype": "text/x-python",
   "name": "python",
   "nbconvert_exporter": "python",
   "pygments_lexer": "ipython3",
   "version": "3.7.3"
  }
 },
 "nbformat": 4,
 "nbformat_minor": 2
}
